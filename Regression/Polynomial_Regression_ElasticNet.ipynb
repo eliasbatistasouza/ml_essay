{
 "cells": [
  {
   "cell_type": "markdown",
   "metadata": {},
   "source": [
    "# 0.0 - Imports"
   ]
  },
  {
   "cell_type": "code",
   "execution_count": 1,
   "metadata": {},
   "outputs": [],
   "source": [
    "import warnings\n",
    "\n",
    "import matplotlib.pyplot as plt\n",
    "import numpy as np\n",
    "import pandas as pd\n",
    "from sklearn import metrics as mt\n",
    "from sklearn.linear_model import ElasticNet\n",
    "from sklearn.preprocessing import PolynomialFeatures"
   ]
  },
  {
   "cell_type": "code",
   "execution_count": 2,
   "metadata": {},
   "outputs": [],
   "source": [
    "warnings.filterwarnings(\"ignore\")"
   ]
  },
  {
   "cell_type": "markdown",
   "metadata": {},
   "source": [
    "# 1.0 - Load Data"
   ]
  },
  {
   "cell_type": "code",
   "execution_count": 3,
   "metadata": {},
   "outputs": [],
   "source": [
    "# Train Dataset\n",
    "X_train = pd.read_csv(\"../data/regression_X_training.csv\")\n",
    "y_train = pd.read_csv(\"../data/regression_y_training.csv\")\n",
    "\n",
    "# Validation Dataset\n",
    "X_val = pd.read_csv(\"../data/regression_X_validation.csv\")\n",
    "y_val = pd.read_csv(\"../data/regression_y_validation.csv\")\n",
    "\n",
    "# Test Dataset\n",
    "X_test = pd.read_csv(\"../data/regression_X_test.csv\")\n",
    "y_test = pd.read_csv(\"../data/regression_y_test.csv\")"
   ]
  },
  {
   "cell_type": "code",
   "execution_count": 4,
   "metadata": {},
   "outputs": [],
   "source": [
    "y_train = y_train.iloc[:, 0]\n",
    "y_val = y_val.iloc[:, 0]\n",
    "y_test = y_test.iloc[:, 0]"
   ]
  },
  {
   "cell_type": "markdown",
   "metadata": {},
   "source": [
    "# 2.0 - Polynomial Regression - ElasticNet"
   ]
  },
  {
   "cell_type": "markdown",
   "metadata": {},
   "source": [
    "## Parameteres:\n",
    "- `degree`\n",
    "- `alpha`\n",
    "- `l1_ratio`\n",
    "- `max_iter`"
   ]
  },
  {
   "cell_type": "markdown",
   "metadata": {},
   "source": [
    "## 2.1 - Performance for Train Dataset"
   ]
  },
  {
   "cell_type": "code",
   "execution_count": 5,
   "metadata": {},
   "outputs": [
    {
     "name": "stdout",
     "output_type": "stream",
     "text": [
      "Train R2: 0.012832763427018778\n",
      "Train MSE: 471.8783378824533\n",
      "Train RMSE: 21.722760825513255\n",
      "Train MAE: 17.244236014680347\n",
      "Train MAPE: 8.678785850035073\n"
     ]
    }
   ],
   "source": [
    "# Define polynomial model\n",
    "poly = PolynomialFeatures()\n",
    "X_poly_train = poly.fit_transform(X_train)\n",
    "\n",
    "# Train and Fit Model\n",
    "poly_elastic_net = ElasticNet(random_state=42)\n",
    "poly_elastic_net.fit(X_poly_train, y_train)\n",
    "\n",
    "# Predict\n",
    "y_pred_train = poly_elastic_net.predict(X_poly_train)\n",
    "\n",
    "# Performance Metrics\n",
    "r2_train = mt.r2_score(y_train, y_pred_train)\n",
    "mse_train = mt.mean_squared_error(y_train, y_pred_train)\n",
    "rmse_train = mt.mean_squared_error(y_train, y_pred_train, squared=False)\n",
    "mae_train = mt.mean_absolute_error(y_train, y_pred_train)\n",
    "mape_train = mt.mean_absolute_percentage_error(y_train, y_pred_train)\n",
    "\n",
    "print(f\"Train R2: {r2_train}\")\n",
    "print(f\"Train MSE: {mse_train}\")\n",
    "print(f\"Train RMSE: {rmse_train}\")\n",
    "print(f\"Train MAE: {mae_train}\")\n",
    "print(f\"Train MAPE: {mape_train}\")"
   ]
  },
  {
   "cell_type": "markdown",
   "metadata": {},
   "source": [
    "## 2.2 - Performance for Validation Dataset"
   ]
  },
  {
   "cell_type": "code",
   "execution_count": 6,
   "metadata": {},
   "outputs": [
    {
     "name": "stdout",
     "output_type": "stream",
     "text": [
      "Validation R2: 0.012781775822342856\n",
      "Validation MSE: 471.4081655799173\n",
      "Validation RMSE: 21.711936016392396\n",
      "Validation MAE: 17.19996619878308\n",
      "Validation MAPE: 8.675108462242978\n"
     ]
    }
   ],
   "source": [
    "# Define polynomial model\n",
    "poly = PolynomialFeatures()\n",
    "X_poly_train = poly.fit_transform(X_train)\n",
    "X_poly_val = poly.fit_transform(X_val)\n",
    "\n",
    "# Train and Fit Model\n",
    "poly_elastic_net = ElasticNet(random_state=42)\n",
    "poly_elastic_net.fit(X_poly_train, y_train)\n",
    "\n",
    "# Predict\n",
    "y_pred_val = poly_elastic_net.predict(X_poly_val)\n",
    "\n",
    "# Performance Metrics\n",
    "r2_val = mt.r2_score(y_val, y_pred_val)\n",
    "mse_val = mt.mean_squared_error(y_val, y_pred_val)\n",
    "rmse_val = mt.mean_squared_error(y_val, y_pred_val, squared=False)\n",
    "mae_val = mt.mean_absolute_error(y_val, y_pred_val)\n",
    "mape_val = mt.mean_absolute_percentage_error(y_val, y_pred_val)\n",
    "\n",
    "print(f\"Validation R2: {r2_val}\")\n",
    "print(f\"Validation MSE: {mse_val}\")\n",
    "print(f\"Validation RMSE: {rmse_val}\")\n",
    "print(f\"Validation MAE: {mae_val}\")\n",
    "print(f\"Validation MAPE: {mape_val}\")"
   ]
  },
  {
   "cell_type": "markdown",
   "metadata": {},
   "source": [
    "## 2.3 - Hyperparameter Fine Tuning"
   ]
  },
  {
   "cell_type": "markdown",
   "metadata": {},
   "source": [
    "### Degree"
   ]
  },
  {
   "cell_type": "code",
   "execution_count": 7,
   "metadata": {},
   "outputs": [],
   "source": [
    "degree = np.arange(1, 6)\n",
    "\n",
    "r2_list = []\n",
    "mse_list = []\n",
    "rmse_list = []\n",
    "mae_list = []\n",
    "mape_list = []"
   ]
  },
  {
   "cell_type": "code",
   "execution_count": 8,
   "metadata": {},
   "outputs": [
    {
     "name": "stdout",
     "output_type": "stream",
     "text": [
      "Degree: 1, RMSE: 21.76317109916543\n",
      "Degree: 2, RMSE: 21.711936016392396\n",
      "Degree: 3, RMSE: 21.69248795804233\n",
      "Degree: 4, RMSE: 22.497638169043945\n",
      "Degree: 5, RMSE: 57.024799061572814\n"
     ]
    }
   ],
   "source": [
    "for i in degree:\n",
    "    # Define polynomial model\n",
    "    poly = PolynomialFeatures(degree=i)\n",
    "    X_poly_train = poly.fit_transform(X_train)\n",
    "    X_poly_val = poly.fit_transform(X_val)\n",
    "\n",
    "    # Train and Fit Model\n",
    "    poly_elastic_net = ElasticNet(random_state=42)\n",
    "    poly_elastic_net.fit(X_poly_train, y_train)\n",
    "\n",
    "    # Predict\n",
    "    y_pred = poly_elastic_net.predict(X_poly_val)\n",
    "\n",
    "    # Performance Metrics\n",
    "    r2 = mt.r2_score(y_val, y_pred)\n",
    "    mse = mt.mean_squared_error(y_val, y_pred)\n",
    "    rmse = mt.mean_squared_error(y_val, y_pred, squared=False)\n",
    "    mae = mt.mean_absolute_error(y_val, y_pred)\n",
    "    mape = mt.mean_absolute_percentage_error(y_val, y_pred)\n",
    "\n",
    "    r2_list.append(r2)\n",
    "    mse_list.append(mse)\n",
    "    rmse_list.append(rmse)\n",
    "    mae_list.append(mae)\n",
    "    mape_list.append(mape)\n",
    "\n",
    "    print(f\"Degree: {i}, RMSE: {rmse}\")"
   ]
  },
  {
   "cell_type": "code",
   "execution_count": 9,
   "metadata": {},
   "outputs": [
    {
     "data": {
      "text/plain": [
       "<matplotlib.legend.Legend at 0x702df4320eb0>"
      ]
     },
     "execution_count": 9,
     "metadata": {},
     "output_type": "execute_result"
    },
    {
     "data": {
      "image/png": "[encoded data removed]",
      "text/plain": [
       "<Figure size 640x480 with 1 Axes>"
      ]
     },
     "metadata": {},
     "output_type": "display_data"
    }
   ],
   "source": [
    "plt.plot(degree, rmse_list, marker=\"o\", label=\"RMSE\")\n",
    "plt.xlabel(\"Degree\")\n",
    "plt.ylabel(\"Metrics\")\n",
    "plt.legend()"
   ]
  },
  {
   "cell_type": "code",
   "execution_count": 10,
   "metadata": {},
   "outputs": [
    {
     "data": {
      "text/plain": [
       "3"
      ]
     },
     "execution_count": 10,
     "metadata": {},
     "output_type": "execute_result"
    }
   ],
   "source": [
    "best_degree = degree[np.argmin(rmse_list)]\n",
    "best_degree"
   ]
  },
  {
   "cell_type": "markdown",
   "metadata": {},
   "source": [
    "### Alpha"
   ]
  },
  {
   "cell_type": "code",
   "execution_count": 11,
   "metadata": {},
   "outputs": [],
   "source": [
    "alpha = np.arange(0.0, 2.1, 0.1)\n",
    "\n",
    "r2_list = []\n",
    "mse_list = []\n",
    "rmse_list = []\n",
    "mae_list = []\n",
    "mape_list = []"
   ]
  },
  {
   "cell_type": "code",
   "execution_count": 12,
   "metadata": {},
   "outputs": [
    {
     "name": "stdout",
     "output_type": "stream",
     "text": [
      "Alpha: 0.0, RMSE: 21.733168197505663\n",
      "Alpha: 0.1, RMSE: 21.319831791780512\n",
      "Alpha: 0.2, RMSE: 21.386016067766846\n",
      "Alpha: 0.30000000000000004, RMSE: 21.45581151495478\n",
      "Alpha: 0.4, RMSE: 21.53267531721072\n",
      "Alpha: 0.5, RMSE: 21.599671629585277\n",
      "Alpha: 0.6000000000000001, RMSE: 21.646216167316105\n",
      "Alpha: 0.7000000000000001, RMSE: 21.675608393000378\n",
      "Alpha: 0.8, RMSE: 21.687876144601017\n",
      "Alpha: 0.9, RMSE: 21.690853843202362\n",
      "Alpha: 1.0, RMSE: 21.69248795804233\n",
      "Alpha: 1.1, RMSE: 21.693761520193608\n",
      "Alpha: 1.2000000000000002, RMSE: 21.695504045533976\n",
      "Alpha: 1.3, RMSE: 21.69884776472749\n",
      "Alpha: 1.4000000000000001, RMSE: 21.704004372185416\n",
      "Alpha: 1.5, RMSE: 21.710579275425346\n",
      "Alpha: 1.6, RMSE: 21.718336173026795\n",
      "Alpha: 1.7000000000000002, RMSE: 21.726828783859872\n",
      "Alpha: 1.8, RMSE: 21.735365448799097\n",
      "Alpha: 1.9000000000000001, RMSE: 21.743431229280713\n",
      "Alpha: 2.0, RMSE: 21.75183076043075\n"
     ]
    }
   ],
   "source": [
    "for i in alpha:\n",
    "    # Define polynomial model\n",
    "    poly = PolynomialFeatures(degree=best_degree)\n",
    "    X_poly_train = poly.fit_transform(X_train)\n",
    "    X_poly_val = poly.fit_transform(X_val)\n",
    "\n",
    "    # Train and Fit Model\n",
    "    poly_elastic_net = ElasticNet(random_state=42, alpha=i)\n",
    "    poly_elastic_net.fit(X_poly_train, y_train)\n",
    "\n",
    "    # Predict\n",
    "    y_pred = poly_elastic_net.predict(X_poly_val)\n",
    "\n",
    "    # Performance Metrics\n",
    "    r2 = mt.r2_score(y_val, y_pred)\n",
    "    mse = mt.mean_squared_error(y_val, y_pred)\n",
    "    rmse = mt.mean_squared_error(y_val, y_pred, squared=False)\n",
    "    mae = mt.mean_absolute_error(y_val, y_pred)\n",
    "    mape = mt.mean_absolute_percentage_error(y_val, y_pred)\n",
    "\n",
    "    r2_list.append(r2)\n",
    "    mse_list.append(mse)\n",
    "    rmse_list.append(rmse)\n",
    "    mae_list.append(mae)\n",
    "    mape_list.append(mape)\n",
    "\n",
    "    print(f\"Alpha: {i}, RMSE: {rmse}\")"
   ]
  },
  {
   "cell_type": "code",
   "execution_count": 13,
   "metadata": {},
   "outputs": [
    {
     "data": {
      "text/plain": [
       "<matplotlib.legend.Legend at 0x702df43af310>"
      ]
     },
     "execution_count": 13,
     "metadata": {},
     "output_type": "execute_result"
    },
    {
     "data": {
      "image/png": "[encoded data removed]",
      "text/plain": [
       "<Figure size 640x480 with 1 Axes>"
      ]
     },
     "metadata": {},
     "output_type": "display_data"
    }
   ],
   "source": [
    "plt.plot(alpha, rmse_list, marker=\"o\", label=\"RMSE\")\n",
    "plt.xlabel(\"Alpha\")\n",
    "plt.ylabel(\"Metrics\")\n",
    "plt.legend()"
   ]
  },
  {
   "cell_type": "code",
   "execution_count": 14,
   "metadata": {},
   "outputs": [
    {
     "data": {
      "text/plain": [
       "0.1"
      ]
     },
     "execution_count": 14,
     "metadata": {},
     "output_type": "execute_result"
    }
   ],
   "source": [
    "best_alpha = alpha[np.argmin(rmse_list)]\n",
    "best_alpha"
   ]
  },
  {
   "cell_type": "markdown",
   "metadata": {},
   "source": [
    "### L1 Ratio"
   ]
  },
  {
   "cell_type": "code",
   "execution_count": 15,
   "metadata": {},
   "outputs": [],
   "source": [
    "l1_ratio = np.arange(0.0, 1.1, 0.1)\n",
    "\n",
    "r2_list = []\n",
    "mse_list = []\n",
    "rmse_list = []\n",
    "mae_list = []\n",
    "mape_list = []"
   ]
  },
  {
   "cell_type": "code",
   "execution_count": 16,
   "metadata": {},
   "outputs": [
    {
     "name": "stdout",
     "output_type": "stream",
     "text": [
      "L1 Ratio: 0.0, RMSE: 21.486148227893114\n",
      "L1 Ratio: 0.1, RMSE: 21.54657210518207\n",
      "L1 Ratio: 0.2, RMSE: 21.608326720825037\n",
      "L1 Ratio: 0.30000000000000004, RMSE: 21.65646092629012\n",
      "L1 Ratio: 0.4, RMSE: 21.68232085359498\n",
      "L1 Ratio: 0.5, RMSE: 21.69248795804233\n",
      "L1 Ratio: 0.6000000000000001, RMSE: 21.695178978690194\n",
      "L1 Ratio: 0.7000000000000001, RMSE: 21.697146183414517\n",
      "L1 Ratio: 0.8, RMSE: 21.6962074655442\n",
      "L1 Ratio: 0.9, RMSE: 21.697731909279483\n",
      "L1 Ratio: 1.0, RMSE: 21.69690689620617\n"
     ]
    }
   ],
   "source": [
    "for i in l1_ratio:\n",
    "    # Define polynomial model\n",
    "    poly = PolynomialFeatures(degree=3)\n",
    "    X_poly_train = poly.fit_transform(X_train)\n",
    "    X_poly_val = poly.fit_transform(X_val)\n",
    "\n",
    "    # Train and Fit Model\n",
    "    poly_elastic_net = ElasticNet(random_state=42, l1_ratio=i)\n",
    "    poly_elastic_net.fit(X_poly_train, y_train)\n",
    "\n",
    "    # Predict\n",
    "    y_pred = poly_elastic_net.predict(X_poly_val)\n",
    "\n",
    "    # Performance Metrics\n",
    "    r2 = mt.r2_score(y_val, y_pred)\n",
    "    mse = mt.mean_squared_error(y_val, y_pred)\n",
    "    rmse = mt.mean_squared_error(y_val, y_pred, squared=False)\n",
    "    mae = mt.mean_absolute_error(y_val, y_pred)\n",
    "    mape = mt.mean_absolute_percentage_error(y_val, y_pred)\n",
    "\n",
    "    r2_list.append(r2)\n",
    "    mse_list.append(mse)\n",
    "    rmse_list.append(rmse)\n",
    "    mae_list.append(mae)\n",
    "    mape_list.append(mape)\n",
    "\n",
    "    print(f\"L1 Ratio: {i}, RMSE: {rmse}\")"
   ]
  },
  {
   "cell_type": "code",
   "execution_count": 17,
   "metadata": {},
   "outputs": [
    {
     "data": {
      "text/plain": [
       "<matplotlib.legend.Legend at 0x702df4ba7070>"
      ]
     },
     "execution_count": 17,
     "metadata": {},
     "output_type": "execute_result"
    },
    {
     "data": {
      "image/png": "[encoded data removed]",
      "text/plain": [
       "<Figure size 640x480 with 1 Axes>"
      ]
     },
     "metadata": {},
     "output_type": "display_data"
    }
   ],
   "source": [
    "plt.plot(l1_ratio, rmse_list, marker=\"o\", label=\"RMSE\")\n",
    "plt.xlabel(\"L1 Ratio\")\n",
    "plt.ylabel(\"Metrics\")\n",
    "plt.legend()"
   ]
  },
  {
   "cell_type": "code",
   "execution_count": 18,
   "metadata": {},
   "outputs": [
    {
     "data": {
      "text/plain": [
       "0.0"
      ]
     },
     "execution_count": 18,
     "metadata": {},
     "output_type": "execute_result"
    }
   ],
   "source": [
    "best_l1 = l1_ratio[np.argmin(rmse_list)]\n",
    "best_l1"
   ]
  },
  {
   "cell_type": "markdown",
   "metadata": {},
   "source": [
    "### Max Iter"
   ]
  },
  {
   "cell_type": "code",
   "execution_count": 19,
   "metadata": {},
   "outputs": [],
   "source": [
    "max_iter = np.arange(100, 2100, 100)\n",
    "\n",
    "r2_list = []\n",
    "mse_list = []\n",
    "rmse_list = []\n",
    "mae_list = []\n",
    "mape_list = []"
   ]
  },
  {
   "cell_type": "code",
   "execution_count": 20,
   "metadata": {},
   "outputs": [
    {
     "name": "stdout",
     "output_type": "stream",
     "text": [
      "Max Iter: 100, RMSE: 21.692884881847988\n",
      "Max Iter: 200, RMSE: 21.69248795804233\n",
      "Max Iter: 300, RMSE: 21.69248795804233\n",
      "Max Iter: 400, RMSE: 21.69248795804233\n",
      "Max Iter: 500, RMSE: 21.69248795804233\n",
      "Max Iter: 600, RMSE: 21.69248795804233\n",
      "Max Iter: 700, RMSE: 21.69248795804233\n",
      "Max Iter: 800, RMSE: 21.69248795804233\n",
      "Max Iter: 900, RMSE: 21.69248795804233\n",
      "Max Iter: 1000, RMSE: 21.69248795804233\n",
      "Max Iter: 1100, RMSE: 21.69248795804233\n",
      "Max Iter: 1200, RMSE: 21.69248795804233\n",
      "Max Iter: 1300, RMSE: 21.69248795804233\n",
      "Max Iter: 1400, RMSE: 21.69248795804233\n",
      "Max Iter: 1500, RMSE: 21.69248795804233\n",
      "Max Iter: 1600, RMSE: 21.69248795804233\n",
      "Max Iter: 1700, RMSE: 21.69248795804233\n",
      "Max Iter: 1800, RMSE: 21.69248795804233\n",
      "Max Iter: 1900, RMSE: 21.69248795804233\n",
      "Max Iter: 2000, RMSE: 21.69248795804233\n"
     ]
    }
   ],
   "source": [
    "for i in max_iter:\n",
    "    # Define polynomial model\n",
    "    poly = PolynomialFeatures(degree=best_degree)\n",
    "    X_poly_train = poly.fit_transform(X_train)\n",
    "    X_poly_val = poly.fit_transform(X_val)\n",
    "\n",
    "    # Train and Fit Model\n",
    "    poly_elastic_net = ElasticNet(random_state=42, max_iter=i)\n",
    "    poly_elastic_net.fit(X_poly_train, y_train)\n",
    "\n",
    "    # Predict\n",
    "    y_pred = poly_elastic_net.predict(X_poly_val)\n",
    "\n",
    "    # Performance Metrics\n",
    "    r2 = mt.r2_score(y_val, y_pred)\n",
    "    mse = mt.mean_squared_error(y_val, y_pred)\n",
    "    rmse = mt.mean_squared_error(y_val, y_pred, squared=False)\n",
    "    mae = mt.mean_absolute_error(y_val, y_pred)\n",
    "    mape = mt.mean_absolute_percentage_error(y_val, y_pred)\n",
    "\n",
    "    r2_list.append(r2)\n",
    "    mse_list.append(mse)\n",
    "    rmse_list.append(rmse)\n",
    "    mae_list.append(mae)\n",
    "    mape_list.append(mape)\n",
    "\n",
    "    print(f\"Max Iter: {i}, RMSE: {rmse}\")"
   ]
  },
  {
   "cell_type": "code",
   "execution_count": 21,
   "metadata": {},
   "outputs": [
    {
     "data": {
      "text/plain": [
       "<matplotlib.legend.Legend at 0x702df4a1f520>"
      ]
     },
     "execution_count": 21,
     "metadata": {},
     "output_type": "execute_result"
    },
    {
     "data": {
      "image/png": "[encoded data removed]",
      "text/plain": [
       "<Figure size 640x480 with 1 Axes>"
      ]
     },
     "metadata": {},
     "output_type": "display_data"
    }
   ],
   "source": [
    "plt.plot(max_iter, rmse_list, marker=\"o\", label=\"RMSE\")\n",
    "plt.xlabel(\"Max Iter\")\n",
    "plt.ylabel(\"Metrics\")\n",
    "plt.legend()"
   ]
  },
  {
   "cell_type": "code",
   "execution_count": 22,
   "metadata": {},
   "outputs": [
    {
     "data": {
      "text/plain": [
       "200"
      ]
     },
     "execution_count": 22,
     "metadata": {},
     "output_type": "execute_result"
    }
   ],
   "source": [
    "best_iter = max_iter[np.argmin(rmse_list)]\n",
    "best_iter"
   ]
  },
  {
   "cell_type": "markdown",
   "metadata": {},
   "source": [
    "## 2.4 - Performance for Test Dataset"
   ]
  },
  {
   "cell_type": "code",
   "execution_count": 23,
   "metadata": {},
   "outputs": [
    {
     "name": "stdout",
     "output_type": "stream",
     "text": [
      "Test R2: 0.059433011658061474\n",
      "Test MSE: 457.9629845108817\n",
      "Test RMSE: 21.400069731449047\n",
      "Test MAE: 16.87083140700895\n",
      "Test MAPE: 8.451147852332175\n"
     ]
    }
   ],
   "source": [
    "# Define polynomial model\n",
    "poly = PolynomialFeatures(degree=best_degree)\n",
    "X_poly_train = poly.fit_transform(X_train)\n",
    "X_poly_val = poly.fit_transform(X_val)\n",
    "X_poly_test = poly.fit_transform(X_test)\n",
    "\n",
    "# Train and Fit Model\n",
    "poly_elastic_net = ElasticNet(\n",
    "    random_state=42, alpha=best_alpha, l1_ratio=best_l1, max_iter=best_iter\n",
    ")\n",
    "poly_elastic_net.fit(\n",
    "    np.concatenate((X_poly_train, X_poly_val)), np.concatenate((y_train, y_val))\n",
    ")\n",
    "\n",
    "# Predict\n",
    "y_pred_test = poly_elastic_net.predict(X_poly_test)\n",
    "\n",
    "# Performance Metrics\n",
    "r2_test = mt.r2_score(y_test, y_pred_test)\n",
    "mse_test = mt.mean_squared_error(y_test, y_pred_test)\n",
    "rmse_test = mt.mean_squared_error(y_test, y_pred_test, squared=False)\n",
    "mae_test = mt.mean_absolute_error(y_test, y_pred_test)\n",
    "mape_test = mt.mean_absolute_percentage_error(y_test, y_pred_test)\n",
    "\n",
    "print(f\"Test R2: {r2_test}\")\n",
    "print(f\"Test MSE: {mse_test}\")\n",
    "print(f\"Test RMSE: {rmse_test}\")\n",
    "print(f\"Test MAE: {mae_test}\")\n",
    "print(f\"Test MAPE: {mape_test}\")"
   ]
  },
  {
   "cell_type": "markdown",
   "metadata": {},
   "source": [
    "# 3.0 - Save Results"
   ]
  },
  {
   "cell_type": "code",
   "execution_count": 24,
   "metadata": {},
   "outputs": [],
   "source": [
    "train_metrics = {\n",
    "    \"Algorithm\": \"Polynomial Regression - ElasticNet\",\n",
    "    \"R-Squared\": np.round(r2_train, 3),\n",
    "    \"MSE\": np.round(mse_train, 3),\n",
    "    \"RMSE\": np.round(rmse_train, 3),\n",
    "    \"MAE\": np.round(mae_train, 3),\n",
    "    \"MAPE\": np.round(mape_train, 3),\n",
    "}\n",
    "validation_metrics = {\n",
    "    \"Algorithm\": \"Polynomial Regression - ElasticNet\",\n",
    "    \"R-Squared\": np.round(r2_val, 3),\n",
    "    \"MSE\": np.round(mse_val, 3),\n",
    "    \"RMSE\": np.round(rmse_val, 3),\n",
    "    \"MAE\": np.round(mae_val, 3),\n",
    "    \"MAPE\": np.round(mape_val, 3),\n",
    "}\n",
    "test_metrics = {\n",
    "    \"Algorithm\": \"Polynomial Regression - ElasticNet\",\n",
    "    \"R-Squared\": np.round(r2_test, 3),\n",
    "    \"MSE\": np.round(mse_test, 3),\n",
    "    \"RMSE\": np.round(rmse_test, 3),\n",
    "    \"MAE\": np.round(mae_test, 3),\n",
    "    \"MAPE\": np.round(mape_test, 3),\n",
    "}\n",
    "\n",
    "pd.DataFrame(train_metrics, index=[0]).to_csv(\n",
    "    \"./reg_train_metrics.csv\", mode=\"a\", header=False\n",
    ")\n",
    "pd.DataFrame(validation_metrics, index=[0]).to_csv(\n",
    "    \"./reg_validation_metrics.csv\", mode=\"a\", header=False\n",
    ")\n",
    "pd.DataFrame(test_metrics, index=[0]).to_csv(\n",
    "    \"./reg_test_metrics.csv\", mode=\"a\", header=False\n",
    ")"
   ]
  }
 ],
 "metadata": {
  "kernelspec": {
   "display_name": "fundamentos_ml",
   "language": "python",
   "name": "python3"
  },
  "language_info": {
   "codemirror_mode": {
    "name": "ipython",
    "version": 3
   },
   "file_extension": ".py",
   "mimetype": "text/x-python",
   "name": "python",
   "nbconvert_exporter": "python",
   "pygments_lexer": "ipython3",
   "version": "3.10.4"
  }
 },
 "nbformat": 4,
 "nbformat_minor": 2
}
